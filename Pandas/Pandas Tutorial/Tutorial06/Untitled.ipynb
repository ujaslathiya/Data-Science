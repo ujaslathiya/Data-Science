{
 "cells": [
  {
   "cell_type": "code",
   "execution_count": 23,
   "id": "80544c41",
   "metadata": {},
   "outputs": [],
   "source": [
    "People = {\n",
    "    \"first\" : ['ujas','mahek','jigar'],\n",
    "    \"last\" : ['lathiya','khanapara','vavaliya'],\n",
    "    \"email\" : ['ujas123@gmail.com','mahek234@gmail.com','jigar@gmail.com']\n",
    "}"
   ]
  },
  {
   "cell_type": "code",
   "execution_count": null,
   "id": "571c7ad6",
   "metadata": {},
   "outputs": [],
   "source": []
  },
  {
   "cell_type": "markdown",
   "id": "9f7901b9",
   "metadata": {},
   "source": [
    "# import pandas as pd\n",
    "df = pd.DataFrame(People)\n",
    "df"
   ]
  },
  {
   "cell_type": "code",
   "execution_count": 25,
   "id": "9f79bbbe",
   "metadata": {},
   "outputs": [
    {
     "data": {
      "text/plain": [
       "0       ujas lathiya\n",
       "1    mahek khanapara\n",
       "2     jigar vavaliya\n",
       "dtype: object"
      ]
     },
     "execution_count": 25,
     "metadata": {},
     "output_type": "execute_result"
    }
   ],
   "source": [
    "df['first'] + ' ' + df['last']"
   ]
  },
  {
   "cell_type": "code",
   "execution_count": 26,
   "id": "5f777ceb",
   "metadata": {},
   "outputs": [],
   "source": [
    "df['full_name'] = df['first'] + ' ' + df['last']"
   ]
  },
  {
   "cell_type": "code",
   "execution_count": 27,
   "id": "d3588ea8",
   "metadata": {},
   "outputs": [
    {
     "data": {
      "text/html": [
       "<div>\n",
       "<style scoped>\n",
       "    .dataframe tbody tr th:only-of-type {\n",
       "        vertical-align: middle;\n",
       "    }\n",
       "\n",
       "    .dataframe tbody tr th {\n",
       "        vertical-align: top;\n",
       "    }\n",
       "\n",
       "    .dataframe thead th {\n",
       "        text-align: right;\n",
       "    }\n",
       "</style>\n",
       "<table border=\"1\" class=\"dataframe\">\n",
       "  <thead>\n",
       "    <tr style=\"text-align: right;\">\n",
       "      <th></th>\n",
       "      <th>first</th>\n",
       "      <th>last</th>\n",
       "      <th>email</th>\n",
       "      <th>full_name</th>\n",
       "    </tr>\n",
       "  </thead>\n",
       "  <tbody>\n",
       "    <tr>\n",
       "      <th>0</th>\n",
       "      <td>ujas</td>\n",
       "      <td>lathiya</td>\n",
       "      <td>ujas123@gmail.com</td>\n",
       "      <td>ujas lathiya</td>\n",
       "    </tr>\n",
       "    <tr>\n",
       "      <th>1</th>\n",
       "      <td>mahek</td>\n",
       "      <td>khanapara</td>\n",
       "      <td>mahek234@gmail.com</td>\n",
       "      <td>mahek khanapara</td>\n",
       "    </tr>\n",
       "    <tr>\n",
       "      <th>2</th>\n",
       "      <td>jigar</td>\n",
       "      <td>vavaliya</td>\n",
       "      <td>jigar@gmail.com</td>\n",
       "      <td>jigar vavaliya</td>\n",
       "    </tr>\n",
       "  </tbody>\n",
       "</table>\n",
       "</div>"
      ],
      "text/plain": [
       "   first       last               email        full_name\n",
       "0   ujas    lathiya   ujas123@gmail.com     ujas lathiya\n",
       "1  mahek  khanapara  mahek234@gmail.com  mahek khanapara\n",
       "2  jigar   vavaliya     jigar@gmail.com   jigar vavaliya"
      ]
     },
     "execution_count": 27,
     "metadata": {},
     "output_type": "execute_result"
    }
   ],
   "source": [
    "df"
   ]
  },
  {
   "cell_type": "code",
   "execution_count": 28,
   "id": "ba5fbedd",
   "metadata": {},
   "outputs": [
    {
     "data": {
      "text/html": [
       "<div>\n",
       "<style scoped>\n",
       "    .dataframe tbody tr th:only-of-type {\n",
       "        vertical-align: middle;\n",
       "    }\n",
       "\n",
       "    .dataframe tbody tr th {\n",
       "        vertical-align: top;\n",
       "    }\n",
       "\n",
       "    .dataframe thead th {\n",
       "        text-align: right;\n",
       "    }\n",
       "</style>\n",
       "<table border=\"1\" class=\"dataframe\">\n",
       "  <thead>\n",
       "    <tr style=\"text-align: right;\">\n",
       "      <th></th>\n",
       "      <th>email</th>\n",
       "      <th>full_name</th>\n",
       "    </tr>\n",
       "  </thead>\n",
       "  <tbody>\n",
       "    <tr>\n",
       "      <th>0</th>\n",
       "      <td>ujas123@gmail.com</td>\n",
       "      <td>ujas lathiya</td>\n",
       "    </tr>\n",
       "    <tr>\n",
       "      <th>1</th>\n",
       "      <td>mahek234@gmail.com</td>\n",
       "      <td>mahek khanapara</td>\n",
       "    </tr>\n",
       "    <tr>\n",
       "      <th>2</th>\n",
       "      <td>jigar@gmail.com</td>\n",
       "      <td>jigar vavaliya</td>\n",
       "    </tr>\n",
       "  </tbody>\n",
       "</table>\n",
       "</div>"
      ],
      "text/plain": [
       "                email        full_name\n",
       "0   ujas123@gmail.com     ujas lathiya\n",
       "1  mahek234@gmail.com  mahek khanapara\n",
       "2     jigar@gmail.com   jigar vavaliya"
      ]
     },
     "execution_count": 28,
     "metadata": {},
     "output_type": "execute_result"
    }
   ],
   "source": [
    "df.drop(columns = ['first', 'last'])"
   ]
  },
  {
   "cell_type": "code",
   "execution_count": 29,
   "id": "d1fc8fde",
   "metadata": {},
   "outputs": [],
   "source": [
    "df.drop(columns = ['first', 'last'], inplace=True)"
   ]
  },
  {
   "cell_type": "code",
   "execution_count": 30,
   "id": "8a2ca108",
   "metadata": {},
   "outputs": [
    {
     "data": {
      "text/html": [
       "<div>\n",
       "<style scoped>\n",
       "    .dataframe tbody tr th:only-of-type {\n",
       "        vertical-align: middle;\n",
       "    }\n",
       "\n",
       "    .dataframe tbody tr th {\n",
       "        vertical-align: top;\n",
       "    }\n",
       "\n",
       "    .dataframe thead th {\n",
       "        text-align: right;\n",
       "    }\n",
       "</style>\n",
       "<table border=\"1\" class=\"dataframe\">\n",
       "  <thead>\n",
       "    <tr style=\"text-align: right;\">\n",
       "      <th></th>\n",
       "      <th>email</th>\n",
       "      <th>full_name</th>\n",
       "    </tr>\n",
       "  </thead>\n",
       "  <tbody>\n",
       "    <tr>\n",
       "      <th>0</th>\n",
       "      <td>ujas123@gmail.com</td>\n",
       "      <td>ujas lathiya</td>\n",
       "    </tr>\n",
       "    <tr>\n",
       "      <th>1</th>\n",
       "      <td>mahek234@gmail.com</td>\n",
       "      <td>mahek khanapara</td>\n",
       "    </tr>\n",
       "    <tr>\n",
       "      <th>2</th>\n",
       "      <td>jigar@gmail.com</td>\n",
       "      <td>jigar vavaliya</td>\n",
       "    </tr>\n",
       "  </tbody>\n",
       "</table>\n",
       "</div>"
      ],
      "text/plain": [
       "                email        full_name\n",
       "0   ujas123@gmail.com     ujas lathiya\n",
       "1  mahek234@gmail.com  mahek khanapara\n",
       "2     jigar@gmail.com   jigar vavaliya"
      ]
     },
     "execution_count": 30,
     "metadata": {},
     "output_type": "execute_result"
    }
   ],
   "source": [
    "df"
   ]
  },
  {
   "cell_type": "code",
   "execution_count": 31,
   "id": "b5c8d80b",
   "metadata": {},
   "outputs": [],
   "source": [
    "df[['first','last']] = df['full_name'].str.split(' ', expand=True)"
   ]
  },
  {
   "cell_type": "code",
   "execution_count": 32,
   "id": "8d7c5452",
   "metadata": {},
   "outputs": [
    {
     "data": {
      "text/html": [
       "<div>\n",
       "<style scoped>\n",
       "    .dataframe tbody tr th:only-of-type {\n",
       "        vertical-align: middle;\n",
       "    }\n",
       "\n",
       "    .dataframe tbody tr th {\n",
       "        vertical-align: top;\n",
       "    }\n",
       "\n",
       "    .dataframe thead th {\n",
       "        text-align: right;\n",
       "    }\n",
       "</style>\n",
       "<table border=\"1\" class=\"dataframe\">\n",
       "  <thead>\n",
       "    <tr style=\"text-align: right;\">\n",
       "      <th></th>\n",
       "      <th>email</th>\n",
       "      <th>full_name</th>\n",
       "      <th>first</th>\n",
       "      <th>last</th>\n",
       "    </tr>\n",
       "  </thead>\n",
       "  <tbody>\n",
       "    <tr>\n",
       "      <th>0</th>\n",
       "      <td>ujas123@gmail.com</td>\n",
       "      <td>ujas lathiya</td>\n",
       "      <td>ujas</td>\n",
       "      <td>lathiya</td>\n",
       "    </tr>\n",
       "    <tr>\n",
       "      <th>1</th>\n",
       "      <td>mahek234@gmail.com</td>\n",
       "      <td>mahek khanapara</td>\n",
       "      <td>mahek</td>\n",
       "      <td>khanapara</td>\n",
       "    </tr>\n",
       "    <tr>\n",
       "      <th>2</th>\n",
       "      <td>jigar@gmail.com</td>\n",
       "      <td>jigar vavaliya</td>\n",
       "      <td>jigar</td>\n",
       "      <td>vavaliya</td>\n",
       "    </tr>\n",
       "  </tbody>\n",
       "</table>\n",
       "</div>"
      ],
      "text/plain": [
       "                email        full_name  first       last\n",
       "0   ujas123@gmail.com     ujas lathiya   ujas    lathiya\n",
       "1  mahek234@gmail.com  mahek khanapara  mahek  khanapara\n",
       "2     jigar@gmail.com   jigar vavaliya  jigar   vavaliya"
      ]
     },
     "execution_count": 32,
     "metadata": {},
     "output_type": "execute_result"
    }
   ],
   "source": [
    "df"
   ]
  },
  {
   "cell_type": "code",
   "execution_count": 33,
   "id": "cb19ef76",
   "metadata": {},
   "outputs": [
    {
     "name": "stderr",
     "output_type": "stream",
     "text": [
      "C:\\Users\\Ujasl\\AppData\\Local\\Temp\\ipykernel_14960\\3111205304.py:1: FutureWarning: The frame.append method is deprecated and will be removed from pandas in a future version. Use pandas.concat instead.\n",
      "  df.append({'first':'hardik'}, ignore_index=True)\n"
     ]
    },
    {
     "data": {
      "text/html": [
       "<div>\n",
       "<style scoped>\n",
       "    .dataframe tbody tr th:only-of-type {\n",
       "        vertical-align: middle;\n",
       "    }\n",
       "\n",
       "    .dataframe tbody tr th {\n",
       "        vertical-align: top;\n",
       "    }\n",
       "\n",
       "    .dataframe thead th {\n",
       "        text-align: right;\n",
       "    }\n",
       "</style>\n",
       "<table border=\"1\" class=\"dataframe\">\n",
       "  <thead>\n",
       "    <tr style=\"text-align: right;\">\n",
       "      <th></th>\n",
       "      <th>email</th>\n",
       "      <th>full_name</th>\n",
       "      <th>first</th>\n",
       "      <th>last</th>\n",
       "    </tr>\n",
       "  </thead>\n",
       "  <tbody>\n",
       "    <tr>\n",
       "      <th>0</th>\n",
       "      <td>ujas123@gmail.com</td>\n",
       "      <td>ujas lathiya</td>\n",
       "      <td>ujas</td>\n",
       "      <td>lathiya</td>\n",
       "    </tr>\n",
       "    <tr>\n",
       "      <th>1</th>\n",
       "      <td>mahek234@gmail.com</td>\n",
       "      <td>mahek khanapara</td>\n",
       "      <td>mahek</td>\n",
       "      <td>khanapara</td>\n",
       "    </tr>\n",
       "    <tr>\n",
       "      <th>2</th>\n",
       "      <td>jigar@gmail.com</td>\n",
       "      <td>jigar vavaliya</td>\n",
       "      <td>jigar</td>\n",
       "      <td>vavaliya</td>\n",
       "    </tr>\n",
       "    <tr>\n",
       "      <th>3</th>\n",
       "      <td>NaN</td>\n",
       "      <td>NaN</td>\n",
       "      <td>hardik</td>\n",
       "      <td>NaN</td>\n",
       "    </tr>\n",
       "  </tbody>\n",
       "</table>\n",
       "</div>"
      ],
      "text/plain": [
       "                email        full_name   first       last\n",
       "0   ujas123@gmail.com     ujas lathiya    ujas    lathiya\n",
       "1  mahek234@gmail.com  mahek khanapara   mahek  khanapara\n",
       "2     jigar@gmail.com   jigar vavaliya   jigar   vavaliya\n",
       "3                 NaN              NaN  hardik        NaN"
      ]
     },
     "execution_count": 33,
     "metadata": {},
     "output_type": "execute_result"
    }
   ],
   "source": [
    "df.append({'first':'hardik'}, ignore_index=True)"
   ]
  },
  {
   "cell_type": "code",
   "execution_count": 34,
   "id": "cf3cde11",
   "metadata": {},
   "outputs": [
    {
     "data": {
      "text/html": [
       "<div>\n",
       "<style scoped>\n",
       "    .dataframe tbody tr th:only-of-type {\n",
       "        vertical-align: middle;\n",
       "    }\n",
       "\n",
       "    .dataframe tbody tr th {\n",
       "        vertical-align: top;\n",
       "    }\n",
       "\n",
       "    .dataframe thead th {\n",
       "        text-align: right;\n",
       "    }\n",
       "</style>\n",
       "<table border=\"1\" class=\"dataframe\">\n",
       "  <thead>\n",
       "    <tr style=\"text-align: right;\">\n",
       "      <th></th>\n",
       "      <th>email</th>\n",
       "      <th>full_name</th>\n",
       "      <th>first</th>\n",
       "      <th>last</th>\n",
       "    </tr>\n",
       "  </thead>\n",
       "  <tbody>\n",
       "    <tr>\n",
       "      <th>0</th>\n",
       "      <td>ujas123@gmail.com</td>\n",
       "      <td>ujas lathiya</td>\n",
       "      <td>ujas</td>\n",
       "      <td>lathiya</td>\n",
       "    </tr>\n",
       "    <tr>\n",
       "      <th>1</th>\n",
       "      <td>mahek234@gmail.com</td>\n",
       "      <td>mahek khanapara</td>\n",
       "      <td>mahek</td>\n",
       "      <td>khanapara</td>\n",
       "    </tr>\n",
       "    <tr>\n",
       "      <th>2</th>\n",
       "      <td>jigar@gmail.com</td>\n",
       "      <td>jigar vavaliya</td>\n",
       "      <td>jigar</td>\n",
       "      <td>vavaliya</td>\n",
       "    </tr>\n",
       "  </tbody>\n",
       "</table>\n",
       "</div>"
      ],
      "text/plain": [
       "                email        full_name  first       last\n",
       "0   ujas123@gmail.com     ujas lathiya   ujas    lathiya\n",
       "1  mahek234@gmail.com  mahek khanapara  mahek  khanapara\n",
       "2     jigar@gmail.com   jigar vavaliya  jigar   vavaliya"
      ]
     },
     "execution_count": 34,
     "metadata": {},
     "output_type": "execute_result"
    }
   ],
   "source": [
    "df"
   ]
  },
  {
   "cell_type": "code",
   "execution_count": 35,
   "id": "2cfc91e1",
   "metadata": {},
   "outputs": [
    {
     "data": {
      "text/html": [
       "<div>\n",
       "<style scoped>\n",
       "    .dataframe tbody tr th:only-of-type {\n",
       "        vertical-align: middle;\n",
       "    }\n",
       "\n",
       "    .dataframe tbody tr th {\n",
       "        vertical-align: top;\n",
       "    }\n",
       "\n",
       "    .dataframe thead th {\n",
       "        text-align: right;\n",
       "    }\n",
       "</style>\n",
       "<table border=\"1\" class=\"dataframe\">\n",
       "  <thead>\n",
       "    <tr style=\"text-align: right;\">\n",
       "      <th></th>\n",
       "      <th>first</th>\n",
       "      <th>last</th>\n",
       "      <th>email</th>\n",
       "    </tr>\n",
       "  </thead>\n",
       "  <tbody>\n",
       "    <tr>\n",
       "      <th>0</th>\n",
       "      <td>kenil</td>\n",
       "      <td>vekariyia</td>\n",
       "      <td>kenil02@gmail.com</td>\n",
       "    </tr>\n",
       "    <tr>\n",
       "      <th>1</th>\n",
       "      <td>yash</td>\n",
       "      <td>senjalia</td>\n",
       "      <td>yashsenj@gmail.com</td>\n",
       "    </tr>\n",
       "    <tr>\n",
       "      <th>2</th>\n",
       "      <td>jenish</td>\n",
       "      <td>korat</td>\n",
       "      <td>jk007@gmail.com</td>\n",
       "    </tr>\n",
       "  </tbody>\n",
       "</table>\n",
       "</div>"
      ],
      "text/plain": [
       "    first       last               email\n",
       "0   kenil  vekariyia   kenil02@gmail.com\n",
       "1    yash   senjalia  yashsenj@gmail.com\n",
       "2  jenish      korat     jk007@gmail.com"
      ]
     },
     "execution_count": 35,
     "metadata": {},
     "output_type": "execute_result"
    }
   ],
   "source": [
    "People2 = {\n",
    "    \"first\" : ['kenil','yash','jenish'],\n",
    "    \"last\" : ['vekariyia','senjalia','korat'],\n",
    "    \"email\" : ['kenil02@gmail.com','yashsenj@gmail.com','jk007@gmail.com']\n",
    "}\n",
    "\n",
    "df2 = pd.DataFrame(People2)\n",
    "df2"
   ]
  },
  {
   "cell_type": "code",
   "execution_count": 36,
   "id": "2a4861db",
   "metadata": {},
   "outputs": [
    {
     "name": "stderr",
     "output_type": "stream",
     "text": [
      "C:\\Users\\Ujasl\\AppData\\Local\\Temp\\ipykernel_14960\\26416246.py:1: FutureWarning: The frame.append method is deprecated and will be removed from pandas in a future version. Use pandas.concat instead.\n",
      "  df.append(df2, ignore_index=True)\n"
     ]
    },
    {
     "data": {
      "text/html": [
       "<div>\n",
       "<style scoped>\n",
       "    .dataframe tbody tr th:only-of-type {\n",
       "        vertical-align: middle;\n",
       "    }\n",
       "\n",
       "    .dataframe tbody tr th {\n",
       "        vertical-align: top;\n",
       "    }\n",
       "\n",
       "    .dataframe thead th {\n",
       "        text-align: right;\n",
       "    }\n",
       "</style>\n",
       "<table border=\"1\" class=\"dataframe\">\n",
       "  <thead>\n",
       "    <tr style=\"text-align: right;\">\n",
       "      <th></th>\n",
       "      <th>email</th>\n",
       "      <th>full_name</th>\n",
       "      <th>first</th>\n",
       "      <th>last</th>\n",
       "    </tr>\n",
       "  </thead>\n",
       "  <tbody>\n",
       "    <tr>\n",
       "      <th>0</th>\n",
       "      <td>ujas123@gmail.com</td>\n",
       "      <td>ujas lathiya</td>\n",
       "      <td>ujas</td>\n",
       "      <td>lathiya</td>\n",
       "    </tr>\n",
       "    <tr>\n",
       "      <th>1</th>\n",
       "      <td>mahek234@gmail.com</td>\n",
       "      <td>mahek khanapara</td>\n",
       "      <td>mahek</td>\n",
       "      <td>khanapara</td>\n",
       "    </tr>\n",
       "    <tr>\n",
       "      <th>2</th>\n",
       "      <td>jigar@gmail.com</td>\n",
       "      <td>jigar vavaliya</td>\n",
       "      <td>jigar</td>\n",
       "      <td>vavaliya</td>\n",
       "    </tr>\n",
       "    <tr>\n",
       "      <th>3</th>\n",
       "      <td>kenil02@gmail.com</td>\n",
       "      <td>NaN</td>\n",
       "      <td>kenil</td>\n",
       "      <td>vekariyia</td>\n",
       "    </tr>\n",
       "    <tr>\n",
       "      <th>4</th>\n",
       "      <td>yashsenj@gmail.com</td>\n",
       "      <td>NaN</td>\n",
       "      <td>yash</td>\n",
       "      <td>senjalia</td>\n",
       "    </tr>\n",
       "    <tr>\n",
       "      <th>5</th>\n",
       "      <td>jk007@gmail.com</td>\n",
       "      <td>NaN</td>\n",
       "      <td>jenish</td>\n",
       "      <td>korat</td>\n",
       "    </tr>\n",
       "  </tbody>\n",
       "</table>\n",
       "</div>"
      ],
      "text/plain": [
       "                email        full_name   first       last\n",
       "0   ujas123@gmail.com     ujas lathiya    ujas    lathiya\n",
       "1  mahek234@gmail.com  mahek khanapara   mahek  khanapara\n",
       "2     jigar@gmail.com   jigar vavaliya   jigar   vavaliya\n",
       "3   kenil02@gmail.com              NaN   kenil  vekariyia\n",
       "4  yashsenj@gmail.com              NaN    yash   senjalia\n",
       "5     jk007@gmail.com              NaN  jenish      korat"
      ]
     },
     "execution_count": 36,
     "metadata": {},
     "output_type": "execute_result"
    }
   ],
   "source": [
    "df.append(df2, ignore_index=True)"
   ]
  },
  {
   "cell_type": "code",
   "execution_count": 37,
   "id": "c7245a33",
   "metadata": {},
   "outputs": [
    {
     "data": {
      "text/html": [
       "<div>\n",
       "<style scoped>\n",
       "    .dataframe tbody tr th:only-of-type {\n",
       "        vertical-align: middle;\n",
       "    }\n",
       "\n",
       "    .dataframe tbody tr th {\n",
       "        vertical-align: top;\n",
       "    }\n",
       "\n",
       "    .dataframe thead th {\n",
       "        text-align: right;\n",
       "    }\n",
       "</style>\n",
       "<table border=\"1\" class=\"dataframe\">\n",
       "  <thead>\n",
       "    <tr style=\"text-align: right;\">\n",
       "      <th></th>\n",
       "      <th>email</th>\n",
       "      <th>full_name</th>\n",
       "      <th>first</th>\n",
       "      <th>last</th>\n",
       "    </tr>\n",
       "  </thead>\n",
       "  <tbody>\n",
       "    <tr>\n",
       "      <th>0</th>\n",
       "      <td>ujas123@gmail.com</td>\n",
       "      <td>ujas lathiya</td>\n",
       "      <td>ujas</td>\n",
       "      <td>lathiya</td>\n",
       "    </tr>\n",
       "    <tr>\n",
       "      <th>1</th>\n",
       "      <td>mahek234@gmail.com</td>\n",
       "      <td>mahek khanapara</td>\n",
       "      <td>mahek</td>\n",
       "      <td>khanapara</td>\n",
       "    </tr>\n",
       "    <tr>\n",
       "      <th>2</th>\n",
       "      <td>jigar@gmail.com</td>\n",
       "      <td>jigar vavaliya</td>\n",
       "      <td>jigar</td>\n",
       "      <td>vavaliya</td>\n",
       "    </tr>\n",
       "  </tbody>\n",
       "</table>\n",
       "</div>"
      ],
      "text/plain": [
       "                email        full_name  first       last\n",
       "0   ujas123@gmail.com     ujas lathiya   ujas    lathiya\n",
       "1  mahek234@gmail.com  mahek khanapara  mahek  khanapara\n",
       "2     jigar@gmail.com   jigar vavaliya  jigar   vavaliya"
      ]
     },
     "execution_count": 37,
     "metadata": {},
     "output_type": "execute_result"
    }
   ],
   "source": [
    "df"
   ]
  },
  {
   "cell_type": "code",
   "execution_count": null,
   "id": "292ecb6b",
   "metadata": {},
   "outputs": [],
   "source": []
  },
  {
   "cell_type": "code",
   "execution_count": 38,
   "id": "72a32300",
   "metadata": {},
   "outputs": [
    {
     "name": "stderr",
     "output_type": "stream",
     "text": [
      "C:\\Users\\Ujasl\\AppData\\Local\\Temp\\ipykernel_14960\\445450659.py:1: FutureWarning: The frame.append method is deprecated and will be removed from pandas in a future version. Use pandas.concat instead.\n",
      "  df = df.append(df2, ignore_index=True)\n"
     ]
    }
   ],
   "source": [
    "df = df.append(df2, ignore_index=True)"
   ]
  },
  {
   "cell_type": "code",
   "execution_count": 39,
   "id": "26f7cb06",
   "metadata": {},
   "outputs": [
    {
     "data": {
      "text/html": [
       "<div>\n",
       "<style scoped>\n",
       "    .dataframe tbody tr th:only-of-type {\n",
       "        vertical-align: middle;\n",
       "    }\n",
       "\n",
       "    .dataframe tbody tr th {\n",
       "        vertical-align: top;\n",
       "    }\n",
       "\n",
       "    .dataframe thead th {\n",
       "        text-align: right;\n",
       "    }\n",
       "</style>\n",
       "<table border=\"1\" class=\"dataframe\">\n",
       "  <thead>\n",
       "    <tr style=\"text-align: right;\">\n",
       "      <th></th>\n",
       "      <th>email</th>\n",
       "      <th>full_name</th>\n",
       "      <th>first</th>\n",
       "      <th>last</th>\n",
       "    </tr>\n",
       "  </thead>\n",
       "  <tbody>\n",
       "    <tr>\n",
       "      <th>0</th>\n",
       "      <td>ujas123@gmail.com</td>\n",
       "      <td>ujas lathiya</td>\n",
       "      <td>ujas</td>\n",
       "      <td>lathiya</td>\n",
       "    </tr>\n",
       "    <tr>\n",
       "      <th>1</th>\n",
       "      <td>mahek234@gmail.com</td>\n",
       "      <td>mahek khanapara</td>\n",
       "      <td>mahek</td>\n",
       "      <td>khanapara</td>\n",
       "    </tr>\n",
       "    <tr>\n",
       "      <th>2</th>\n",
       "      <td>jigar@gmail.com</td>\n",
       "      <td>jigar vavaliya</td>\n",
       "      <td>jigar</td>\n",
       "      <td>vavaliya</td>\n",
       "    </tr>\n",
       "    <tr>\n",
       "      <th>3</th>\n",
       "      <td>kenil02@gmail.com</td>\n",
       "      <td>NaN</td>\n",
       "      <td>kenil</td>\n",
       "      <td>vekariyia</td>\n",
       "    </tr>\n",
       "    <tr>\n",
       "      <th>4</th>\n",
       "      <td>yashsenj@gmail.com</td>\n",
       "      <td>NaN</td>\n",
       "      <td>yash</td>\n",
       "      <td>senjalia</td>\n",
       "    </tr>\n",
       "    <tr>\n",
       "      <th>5</th>\n",
       "      <td>jk007@gmail.com</td>\n",
       "      <td>NaN</td>\n",
       "      <td>jenish</td>\n",
       "      <td>korat</td>\n",
       "    </tr>\n",
       "  </tbody>\n",
       "</table>\n",
       "</div>"
      ],
      "text/plain": [
       "                email        full_name   first       last\n",
       "0   ujas123@gmail.com     ujas lathiya    ujas    lathiya\n",
       "1  mahek234@gmail.com  mahek khanapara   mahek  khanapara\n",
       "2     jigar@gmail.com   jigar vavaliya   jigar   vavaliya\n",
       "3   kenil02@gmail.com              NaN   kenil  vekariyia\n",
       "4  yashsenj@gmail.com              NaN    yash   senjalia\n",
       "5     jk007@gmail.com              NaN  jenish      korat"
      ]
     },
     "execution_count": 39,
     "metadata": {},
     "output_type": "execute_result"
    }
   ],
   "source": [
    "df"
   ]
  },
  {
   "cell_type": "code",
   "execution_count": 40,
   "id": "949ca3be",
   "metadata": {},
   "outputs": [
    {
     "data": {
      "text/html": [
       "<div>\n",
       "<style scoped>\n",
       "    .dataframe tbody tr th:only-of-type {\n",
       "        vertical-align: middle;\n",
       "    }\n",
       "\n",
       "    .dataframe tbody tr th {\n",
       "        vertical-align: top;\n",
       "    }\n",
       "\n",
       "    .dataframe thead th {\n",
       "        text-align: right;\n",
       "    }\n",
       "</style>\n",
       "<table border=\"1\" class=\"dataframe\">\n",
       "  <thead>\n",
       "    <tr style=\"text-align: right;\">\n",
       "      <th></th>\n",
       "      <th>email</th>\n",
       "      <th>full_name</th>\n",
       "      <th>first</th>\n",
       "      <th>last</th>\n",
       "    </tr>\n",
       "  </thead>\n",
       "  <tbody>\n",
       "    <tr>\n",
       "      <th>0</th>\n",
       "      <td>ujas123@gmail.com</td>\n",
       "      <td>ujas lathiya</td>\n",
       "      <td>ujas</td>\n",
       "      <td>lathiya</td>\n",
       "    </tr>\n",
       "    <tr>\n",
       "      <th>1</th>\n",
       "      <td>mahek234@gmail.com</td>\n",
       "      <td>mahek khanapara</td>\n",
       "      <td>mahek</td>\n",
       "      <td>khanapara</td>\n",
       "    </tr>\n",
       "    <tr>\n",
       "      <th>2</th>\n",
       "      <td>jigar@gmail.com</td>\n",
       "      <td>jigar vavaliya</td>\n",
       "      <td>jigar</td>\n",
       "      <td>vavaliya</td>\n",
       "    </tr>\n",
       "    <tr>\n",
       "      <th>3</th>\n",
       "      <td>kenil02@gmail.com</td>\n",
       "      <td>NaN</td>\n",
       "      <td>kenil</td>\n",
       "      <td>vekariyia</td>\n",
       "    </tr>\n",
       "    <tr>\n",
       "      <th>4</th>\n",
       "      <td>yashsenj@gmail.com</td>\n",
       "      <td>NaN</td>\n",
       "      <td>yash</td>\n",
       "      <td>senjalia</td>\n",
       "    </tr>\n",
       "  </tbody>\n",
       "</table>\n",
       "</div>"
      ],
      "text/plain": [
       "                email        full_name  first       last\n",
       "0   ujas123@gmail.com     ujas lathiya   ujas    lathiya\n",
       "1  mahek234@gmail.com  mahek khanapara  mahek  khanapara\n",
       "2     jigar@gmail.com   jigar vavaliya  jigar   vavaliya\n",
       "3   kenil02@gmail.com              NaN  kenil  vekariyia\n",
       "4  yashsenj@gmail.com              NaN   yash   senjalia"
      ]
     },
     "execution_count": 40,
     "metadata": {},
     "output_type": "execute_result"
    }
   ],
   "source": [
    "df.drop(index=5)"
   ]
  },
  {
   "cell_type": "code",
   "execution_count": 41,
   "id": "e720d250",
   "metadata": {},
   "outputs": [
    {
     "data": {
      "text/html": [
       "<div>\n",
       "<style scoped>\n",
       "    .dataframe tbody tr th:only-of-type {\n",
       "        vertical-align: middle;\n",
       "    }\n",
       "\n",
       "    .dataframe tbody tr th {\n",
       "        vertical-align: top;\n",
       "    }\n",
       "\n",
       "    .dataframe thead th {\n",
       "        text-align: right;\n",
       "    }\n",
       "</style>\n",
       "<table border=\"1\" class=\"dataframe\">\n",
       "  <thead>\n",
       "    <tr style=\"text-align: right;\">\n",
       "      <th></th>\n",
       "      <th>email</th>\n",
       "      <th>full_name</th>\n",
       "      <th>first</th>\n",
       "      <th>last</th>\n",
       "    </tr>\n",
       "  </thead>\n",
       "  <tbody>\n",
       "    <tr>\n",
       "      <th>0</th>\n",
       "      <td>ujas123@gmail.com</td>\n",
       "      <td>ujas lathiya</td>\n",
       "      <td>ujas</td>\n",
       "      <td>lathiya</td>\n",
       "    </tr>\n",
       "    <tr>\n",
       "      <th>1</th>\n",
       "      <td>mahek234@gmail.com</td>\n",
       "      <td>mahek khanapara</td>\n",
       "      <td>mahek</td>\n",
       "      <td>khanapara</td>\n",
       "    </tr>\n",
       "    <tr>\n",
       "      <th>2</th>\n",
       "      <td>jigar@gmail.com</td>\n",
       "      <td>jigar vavaliya</td>\n",
       "      <td>jigar</td>\n",
       "      <td>vavaliya</td>\n",
       "    </tr>\n",
       "    <tr>\n",
       "      <th>3</th>\n",
       "      <td>kenil02@gmail.com</td>\n",
       "      <td>NaN</td>\n",
       "      <td>kenil</td>\n",
       "      <td>vekariyia</td>\n",
       "    </tr>\n",
       "    <tr>\n",
       "      <th>4</th>\n",
       "      <td>yashsenj@gmail.com</td>\n",
       "      <td>NaN</td>\n",
       "      <td>yash</td>\n",
       "      <td>senjalia</td>\n",
       "    </tr>\n",
       "    <tr>\n",
       "      <th>5</th>\n",
       "      <td>jk007@gmail.com</td>\n",
       "      <td>NaN</td>\n",
       "      <td>jenish</td>\n",
       "      <td>korat</td>\n",
       "    </tr>\n",
       "  </tbody>\n",
       "</table>\n",
       "</div>"
      ],
      "text/plain": [
       "                email        full_name   first       last\n",
       "0   ujas123@gmail.com     ujas lathiya    ujas    lathiya\n",
       "1  mahek234@gmail.com  mahek khanapara   mahek  khanapara\n",
       "2     jigar@gmail.com   jigar vavaliya   jigar   vavaliya\n",
       "3   kenil02@gmail.com              NaN   kenil  vekariyia\n",
       "4  yashsenj@gmail.com              NaN    yash   senjalia\n",
       "5     jk007@gmail.com              NaN  jenish      korat"
      ]
     },
     "execution_count": 41,
     "metadata": {},
     "output_type": "execute_result"
    }
   ],
   "source": [
    "df"
   ]
  },
  {
   "cell_type": "code",
   "execution_count": 42,
   "id": "e496156b",
   "metadata": {},
   "outputs": [],
   "source": [
    "df.drop(index=5, inplace=True)"
   ]
  },
  {
   "cell_type": "code",
   "execution_count": 43,
   "id": "4947c652",
   "metadata": {},
   "outputs": [
    {
     "data": {
      "text/html": [
       "<div>\n",
       "<style scoped>\n",
       "    .dataframe tbody tr th:only-of-type {\n",
       "        vertical-align: middle;\n",
       "    }\n",
       "\n",
       "    .dataframe tbody tr th {\n",
       "        vertical-align: top;\n",
       "    }\n",
       "\n",
       "    .dataframe thead th {\n",
       "        text-align: right;\n",
       "    }\n",
       "</style>\n",
       "<table border=\"1\" class=\"dataframe\">\n",
       "  <thead>\n",
       "    <tr style=\"text-align: right;\">\n",
       "      <th></th>\n",
       "      <th>email</th>\n",
       "      <th>full_name</th>\n",
       "      <th>first</th>\n",
       "      <th>last</th>\n",
       "    </tr>\n",
       "  </thead>\n",
       "  <tbody>\n",
       "    <tr>\n",
       "      <th>0</th>\n",
       "      <td>ujas123@gmail.com</td>\n",
       "      <td>ujas lathiya</td>\n",
       "      <td>ujas</td>\n",
       "      <td>lathiya</td>\n",
       "    </tr>\n",
       "    <tr>\n",
       "      <th>1</th>\n",
       "      <td>mahek234@gmail.com</td>\n",
       "      <td>mahek khanapara</td>\n",
       "      <td>mahek</td>\n",
       "      <td>khanapara</td>\n",
       "    </tr>\n",
       "    <tr>\n",
       "      <th>2</th>\n",
       "      <td>jigar@gmail.com</td>\n",
       "      <td>jigar vavaliya</td>\n",
       "      <td>jigar</td>\n",
       "      <td>vavaliya</td>\n",
       "    </tr>\n",
       "    <tr>\n",
       "      <th>3</th>\n",
       "      <td>kenil02@gmail.com</td>\n",
       "      <td>NaN</td>\n",
       "      <td>kenil</td>\n",
       "      <td>vekariyia</td>\n",
       "    </tr>\n",
       "    <tr>\n",
       "      <th>4</th>\n",
       "      <td>yashsenj@gmail.com</td>\n",
       "      <td>NaN</td>\n",
       "      <td>yash</td>\n",
       "      <td>senjalia</td>\n",
       "    </tr>\n",
       "  </tbody>\n",
       "</table>\n",
       "</div>"
      ],
      "text/plain": [
       "                email        full_name  first       last\n",
       "0   ujas123@gmail.com     ujas lathiya   ujas    lathiya\n",
       "1  mahek234@gmail.com  mahek khanapara  mahek  khanapara\n",
       "2     jigar@gmail.com   jigar vavaliya  jigar   vavaliya\n",
       "3   kenil02@gmail.com              NaN  kenil  vekariyia\n",
       "4  yashsenj@gmail.com              NaN   yash   senjalia"
      ]
     },
     "execution_count": 43,
     "metadata": {},
     "output_type": "execute_result"
    }
   ],
   "source": [
    "df"
   ]
  },
  {
   "cell_type": "code",
   "execution_count": 45,
   "id": "cc1e85c9",
   "metadata": {},
   "outputs": [
    {
     "data": {
      "text/html": [
       "<div>\n",
       "<style scoped>\n",
       "    .dataframe tbody tr th:only-of-type {\n",
       "        vertical-align: middle;\n",
       "    }\n",
       "\n",
       "    .dataframe tbody tr th {\n",
       "        vertical-align: top;\n",
       "    }\n",
       "\n",
       "    .dataframe thead th {\n",
       "        text-align: right;\n",
       "    }\n",
       "</style>\n",
       "<table border=\"1\" class=\"dataframe\">\n",
       "  <thead>\n",
       "    <tr style=\"text-align: right;\">\n",
       "      <th></th>\n",
       "      <th>email</th>\n",
       "      <th>full_name</th>\n",
       "      <th>first</th>\n",
       "      <th>last</th>\n",
       "    </tr>\n",
       "  </thead>\n",
       "  <tbody>\n",
       "    <tr>\n",
       "      <th>0</th>\n",
       "      <td>ujas123@gmail.com</td>\n",
       "      <td>ujas lathiya</td>\n",
       "      <td>ujas</td>\n",
       "      <td>lathiya</td>\n",
       "    </tr>\n",
       "    <tr>\n",
       "      <th>1</th>\n",
       "      <td>mahek234@gmail.com</td>\n",
       "      <td>mahek khanapara</td>\n",
       "      <td>mahek</td>\n",
       "      <td>khanapara</td>\n",
       "    </tr>\n",
       "    <tr>\n",
       "      <th>3</th>\n",
       "      <td>kenil02@gmail.com</td>\n",
       "      <td>NaN</td>\n",
       "      <td>kenil</td>\n",
       "      <td>vekariyia</td>\n",
       "    </tr>\n",
       "    <tr>\n",
       "      <th>4</th>\n",
       "      <td>yashsenj@gmail.com</td>\n",
       "      <td>NaN</td>\n",
       "      <td>yash</td>\n",
       "      <td>senjalia</td>\n",
       "    </tr>\n",
       "  </tbody>\n",
       "</table>\n",
       "</div>"
      ],
      "text/plain": [
       "                email        full_name  first       last\n",
       "0   ujas123@gmail.com     ujas lathiya   ujas    lathiya\n",
       "1  mahek234@gmail.com  mahek khanapara  mahek  khanapara\n",
       "3   kenil02@gmail.com              NaN  kenil  vekariyia\n",
       "4  yashsenj@gmail.com              NaN   yash   senjalia"
      ]
     },
     "execution_count": 45,
     "metadata": {},
     "output_type": "execute_result"
    }
   ],
   "source": [
    "filt = df['email'] =='jigar@gmail.com'\n",
    "df.drop(index=df[filt].index)"
   ]
  },
  {
   "cell_type": "code",
   "execution_count": 46,
   "id": "e6ccd6de",
   "metadata": {},
   "outputs": [],
   "source": [
    "df = df.drop(index = df[df['email'] == 'jigar@gmail.com'].index)"
   ]
  },
  {
   "cell_type": "code",
   "execution_count": 47,
   "id": "e059a8fb",
   "metadata": {},
   "outputs": [
    {
     "data": {
      "text/html": [
       "<div>\n",
       "<style scoped>\n",
       "    .dataframe tbody tr th:only-of-type {\n",
       "        vertical-align: middle;\n",
       "    }\n",
       "\n",
       "    .dataframe tbody tr th {\n",
       "        vertical-align: top;\n",
       "    }\n",
       "\n",
       "    .dataframe thead th {\n",
       "        text-align: right;\n",
       "    }\n",
       "</style>\n",
       "<table border=\"1\" class=\"dataframe\">\n",
       "  <thead>\n",
       "    <tr style=\"text-align: right;\">\n",
       "      <th></th>\n",
       "      <th>email</th>\n",
       "      <th>full_name</th>\n",
       "      <th>first</th>\n",
       "      <th>last</th>\n",
       "    </tr>\n",
       "  </thead>\n",
       "  <tbody>\n",
       "    <tr>\n",
       "      <th>0</th>\n",
       "      <td>ujas123@gmail.com</td>\n",
       "      <td>ujas lathiya</td>\n",
       "      <td>ujas</td>\n",
       "      <td>lathiya</td>\n",
       "    </tr>\n",
       "    <tr>\n",
       "      <th>1</th>\n",
       "      <td>mahek234@gmail.com</td>\n",
       "      <td>mahek khanapara</td>\n",
       "      <td>mahek</td>\n",
       "      <td>khanapara</td>\n",
       "    </tr>\n",
       "    <tr>\n",
       "      <th>3</th>\n",
       "      <td>kenil02@gmail.com</td>\n",
       "      <td>NaN</td>\n",
       "      <td>kenil</td>\n",
       "      <td>vekariyia</td>\n",
       "    </tr>\n",
       "    <tr>\n",
       "      <th>4</th>\n",
       "      <td>yashsenj@gmail.com</td>\n",
       "      <td>NaN</td>\n",
       "      <td>yash</td>\n",
       "      <td>senjalia</td>\n",
       "    </tr>\n",
       "  </tbody>\n",
       "</table>\n",
       "</div>"
      ],
      "text/plain": [
       "                email        full_name  first       last\n",
       "0   ujas123@gmail.com     ujas lathiya   ujas    lathiya\n",
       "1  mahek234@gmail.com  mahek khanapara  mahek  khanapara\n",
       "3   kenil02@gmail.com              NaN  kenil  vekariyia\n",
       "4  yashsenj@gmail.com              NaN   yash   senjalia"
      ]
     },
     "execution_count": 47,
     "metadata": {},
     "output_type": "execute_result"
    }
   ],
   "source": [
    "df"
   ]
  },
  {
   "cell_type": "code",
   "execution_count": 48,
   "id": "8346a718",
   "metadata": {},
   "outputs": [],
   "source": [
    "df.drop(index=df[df['first']=='kenil'].index, inplace=True)"
   ]
  },
  {
   "cell_type": "code",
   "execution_count": 49,
   "id": "13f40bfe",
   "metadata": {},
   "outputs": [
    {
     "data": {
      "text/html": [
       "<div>\n",
       "<style scoped>\n",
       "    .dataframe tbody tr th:only-of-type {\n",
       "        vertical-align: middle;\n",
       "    }\n",
       "\n",
       "    .dataframe tbody tr th {\n",
       "        vertical-align: top;\n",
       "    }\n",
       "\n",
       "    .dataframe thead th {\n",
       "        text-align: right;\n",
       "    }\n",
       "</style>\n",
       "<table border=\"1\" class=\"dataframe\">\n",
       "  <thead>\n",
       "    <tr style=\"text-align: right;\">\n",
       "      <th></th>\n",
       "      <th>email</th>\n",
       "      <th>full_name</th>\n",
       "      <th>first</th>\n",
       "      <th>last</th>\n",
       "    </tr>\n",
       "  </thead>\n",
       "  <tbody>\n",
       "    <tr>\n",
       "      <th>0</th>\n",
       "      <td>ujas123@gmail.com</td>\n",
       "      <td>ujas lathiya</td>\n",
       "      <td>ujas</td>\n",
       "      <td>lathiya</td>\n",
       "    </tr>\n",
       "    <tr>\n",
       "      <th>1</th>\n",
       "      <td>mahek234@gmail.com</td>\n",
       "      <td>mahek khanapara</td>\n",
       "      <td>mahek</td>\n",
       "      <td>khanapara</td>\n",
       "    </tr>\n",
       "    <tr>\n",
       "      <th>4</th>\n",
       "      <td>yashsenj@gmail.com</td>\n",
       "      <td>NaN</td>\n",
       "      <td>yash</td>\n",
       "      <td>senjalia</td>\n",
       "    </tr>\n",
       "  </tbody>\n",
       "</table>\n",
       "</div>"
      ],
      "text/plain": [
       "                email        full_name  first       last\n",
       "0   ujas123@gmail.com     ujas lathiya   ujas    lathiya\n",
       "1  mahek234@gmail.com  mahek khanapara  mahek  khanapara\n",
       "4  yashsenj@gmail.com              NaN   yash   senjalia"
      ]
     },
     "execution_count": 49,
     "metadata": {},
     "output_type": "execute_result"
    }
   ],
   "source": [
    "df"
   ]
  },
  {
   "cell_type": "code",
   "execution_count": null,
   "id": "9766f69a",
   "metadata": {},
   "outputs": [],
   "source": []
  }
 ],
 "metadata": {
  "kernelspec": {
   "display_name": "Python 3 (ipykernel)",
   "language": "python",
   "name": "python3"
  },
  "language_info": {
   "codemirror_mode": {
    "name": "ipython",
    "version": 3
   },
   "file_extension": ".py",
   "mimetype": "text/x-python",
   "name": "python",
   "nbconvert_exporter": "python",
   "pygments_lexer": "ipython3",
   "version": "3.11.2"
  }
 },
 "nbformat": 4,
 "nbformat_minor": 5
}
